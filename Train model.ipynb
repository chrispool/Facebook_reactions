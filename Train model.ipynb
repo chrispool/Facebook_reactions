{
 "cells": [
  {
   "cell_type": "code",
   "execution_count": 8,
   "metadata": {
    "collapsed": false
   },
   "outputs": [],
   "source": [
    "import json\n",
    "from pprint import pprint\n",
    "import csv\n",
    "from collections import Counter, defaultdict\n",
    "from sklearn.feature_extraction.text import CountVectorizer\n",
    "from sklearn.feature_extraction.text import TfidfTransformer\n",
    "from sklearn.linear_model import SGDClassifier\n",
    "from sklearn.grid_search import GridSearchCV\n",
    "from sklearn.pipeline import Pipeline\n",
    "from xml.dom.minidom import parse, parseString\n",
    "from sklearn.metrics import classification_report, confusion_matrix, accuracy_score\n",
    "from sklearn import svm\n",
    "from sklearn.feature_extraction.text import TfidfVectorizer\n",
    "from sklearn.pipeline import Pipeline, FeatureUnion"
   ]
  },
  {
   "cell_type": "code",
   "execution_count": 2,
   "metadata": {
    "collapsed": true
   },
   "outputs": [],
   "source": [
    "#SemEval\n",
    "data_folder_sem_eval = 'data/sem_eval/'\n",
    "\n",
    "\n",
    "#Map to ANGER, JOY, SADNESS, SUPRISE\n",
    "mapping = {\n",
    "'fairy_tales' : {'2' : 'ANGER', '3': 'NONE', '4': 'JOY', '5': 'NONE', '6': 'SADNESS', '7': 'SURPRISE'},\n",
    "'ISEAR'       : {'anger': 'ANGER', 'disgust': 'NONE', 'fear' : 'NONE', 'joy': 'JOY', 'sadness': 'SADNESS', 'shame': 'NONE', 'guilt' : 'NONE'},\n",
    "'sem_eval'    : {'anger' : 'ANGER', 'disgust': 'NONE', 'fear': 'NONE', 'joy': 'JOY', 'sadness': 'SADNESS', 'surprise': 'SURPRISE'},\n",
    "'facebook'    : {'ANGRY' : 'ANGER', 'SAD' : 'SADNESS', 'HAHA' : 'JOY', 'WOW': 'SURPRISE', 'LOVE': 'JOY', 'LIKE' : 'NONE', 'NONE': 'NONE'}\n",
    "}\n",
    "\n"
   ]
  },
  {
   "cell_type": "code",
   "execution_count": 3,
   "metadata": {
    "collapsed": false
   },
   "outputs": [],
   "source": [
    "reaction_types = ['NONE', 'LIKE', 'LOVE', 'WOW', 'HAHA', 'SAD', 'ANGRY', 'THANKFUL']\n",
    "data = []\n",
    "files = ['FoxNews', 'cnn', 'espn', 'nytimes']\n",
    "for f in files:\n",
    "    with open('data/facebook_data/{}.json'.format(f)) as data_file:    \n",
    "        data.extend(json.load(data_file))"
   ]
  },
  {
   "cell_type": "code",
   "execution_count": 22,
   "metadata": {
    "collapsed": false
   },
   "outputs": [],
   "source": [
    "csv_data = []\n",
    "categories = []\n",
    "text = defaultdict(str)\n",
    "result = defaultdict(list)\n",
    "for post in data:\n",
    "    csv_row = [post[0]['created_time'], post[0]['message']]\n",
    "    for i, rt in enumerate(reaction_types):\n",
    "        csv_row.append(post[0]['reactions'][i] / post[0]['reactions'][0])\n",
    "    csv_row.append(reaction_types[post[0]['reactions'].index(max(post[0]['reactions'][2:]))])\n",
    "    csv_data.append(csv_row)\n",
    "    categories.append(reaction_types[post[0]['reactions'].index(max(post[0]['reactions'][2:]))])\n",
    "    text[reaction_types[post[0]['reactions'].index(max(post[0]['reactions'][2:]))]] += post[0]['message']\n",
    "    result[mapping['facebook'][reaction_types[post[0]['reactions'].index(max(post[0]['reactions'][2:]))]]].append((mapping['facebook'][reaction_types[post[0]['reactions'].index(max(post[0]['reactions'][2:]))]], post[0]['message'],max(post[0]['reactions'][2:]) / post[0]['reactions'][0]))\n",
    "\n",
    "least_frequent = min([len(result[k])for k in result])\n",
    "sorted_result = []\n",
    "for k in result:\n",
    "    sorted_result.extend(sorted(result[k], key = lambda x: int(x[2]))[:least_frequent])\n",
    "\n"
   ]
  },
  {
   "cell_type": "code",
   "execution_count": 23,
   "metadata": {
    "collapsed": false
   },
   "outputs": [],
   "source": [
    "'''Reading sem_eval'''\n",
    "test_gold_doc = parse('data/sem_eval/AffectiveText.test/affectivetext_test.xml')\n",
    "test_sentences = 'data/sem_eval/AffectiveText.test/affectivetext_test.emotions.gold'\n",
    "train_gold_doc = parse('data/sem_eval/AffectiveText.trial/affectivetext_trial.xml')\n",
    "train_sentences = 'data/sem_eval/AffectiveText.trial/affectivetext_trial.emotions.gold'\n",
    "emotions = ['anger', 'disgust', 'fear', 'joy', 'sadness', 'surprise', 'sentence']\n",
    "\n",
    "result_sem_eval = defaultdict(list)\n",
    "with open(train_sentences) as f2:\n",
    "    for line in f2.readlines():\n",
    "        values = line.strip().split()\n",
    "        result_sem_eval[values[0]] = [emotions[values[1:].index(max(values[1:]))]]\n",
    "\n",
    "sentences = train_gold_doc.getElementsByTagName(\"instance\")\n",
    "for sentence in sentences:\n",
    "    sid = sentence.getAttribute(\"id\")\n",
    "    result_sem_eval[sid].append(sentence.firstChild.nodeValue)\n",
    "\n",
    "\n",
    "result_sem_eval = [(mapping['sem_eval'][emotion], sentence) for emotion, sentence in result_sem_eval.values()]"
   ]
  },
  {
   "cell_type": "code",
   "execution_count": 24,
   "metadata": {
    "collapsed": false
   },
   "outputs": [
    {
     "name": "stdout",
     "output_type": "stream",
     "text": [
      "             precision    recall  f1-score   support\n",
      "\n",
      "      ANGER       0.22      0.51      0.31        41\n",
      "        JOY       0.61      0.15      0.25        71\n",
      "    SADNESS       0.41      0.32      0.36        44\n",
      "   SURPRISE       0.27      0.34      0.30        35\n",
      "\n",
      "avg / total       0.42      0.30      0.30       191\n",
      "\n",
      "[[21  1 11  8]\n",
      " [36 11  5 19]\n",
      " [21  4 14  5]\n",
      " [17  2  4 12]]\n"
     ]
    },
    {
     "data": {
      "text/plain": [
       "0.30366492146596857"
      ]
     },
     "execution_count": 24,
     "metadata": {},
     "output_type": "execute_result"
    }
   ],
   "source": [
    "# define a pipeline combining a text feature extractor with a simple\n",
    "# classifier\n",
    "\n",
    "X = [x for y, x, s in sorted_result if y != 'NONE']\n",
    "y = [y for y, x, s in sorted_result if y != 'NONE']\n",
    "\n",
    "pipeline = Pipeline([\n",
    "    ('features', FeatureUnion([\n",
    "                ('words', TfidfVectorizer(stop_words = 'english'))\n",
    "    ])),\n",
    "    ('classifier', svm.SVC())\n",
    "    ])\n",
    "\n",
    "\n",
    "pipeline.fit(X, y)\n",
    "X_sem = [x for y, x in result_sem_eval if y != 'NONE']\n",
    "y_sem = [y for y, x in result_sem_eval if y != 'NONE']\n",
    "y_pred = pipeline.predict(X_sem)\n",
    "print(classification_report(y_sem, y_pred))\n",
    "print(confusion_matrix(y_sem, y_pred))\n",
    "accuracy_score(y_sem, y_pred)\n"
   ]
  },
  {
   "cell_type": "code",
   "execution_count": null,
   "metadata": {
    "collapsed": true
   },
   "outputs": [],
   "source": []
  },
  {
   "cell_type": "code",
   "execution_count": null,
   "metadata": {
    "collapsed": true
   },
   "outputs": [],
   "source": []
  },
  {
   "cell_type": "code",
   "execution_count": null,
   "metadata": {
    "collapsed": true
   },
   "outputs": [],
   "source": []
  }
 ],
 "metadata": {
  "kernelspec": {
   "display_name": "Python 3",
   "language": "python",
   "name": "python3"
  },
  "language_info": {
   "codemirror_mode": {
    "name": "ipython",
    "version": 3
   },
   "file_extension": ".py",
   "mimetype": "text/x-python",
   "name": "python",
   "nbconvert_exporter": "python",
   "pygments_lexer": "ipython3",
   "version": "3.5.1"
  }
 },
 "nbformat": 4,
 "nbformat_minor": 0
}
