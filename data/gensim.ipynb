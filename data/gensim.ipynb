{
 "cells": [
  {
   "cell_type": "code",
   "execution_count": 17,
   "metadata": {
    "collapsed": true
   },
   "outputs": [],
   "source": [
    "import gensim\n",
    "from nltk import word_tokenize"
   ]
  },
  {
   "cell_type": "code",
   "execution_count": 27,
   "metadata": {
    "collapsed": false,
    "scrolled": false
   },
   "outputs": [],
   "source": [
    "with open('facebook_data/facebook_corpus.txt') as f:\n",
    "    sentences = [word_tokenize(sentence.strip().lower()) for sentence in f.readlines()]"
   ]
  },
  {
   "cell_type": "code",
   "execution_count": 19,
   "metadata": {
    "collapsed": false
   },
   "outputs": [
    {
     "name": "stdout",
     "output_type": "stream",
     "text": [
      "350107\n"
     ]
    }
   ],
   "source": [
    "print(len(sentences))"
   ]
  },
  {
   "cell_type": "code",
   "execution_count": 28,
   "metadata": {
    "collapsed": false
   },
   "outputs": [],
   "source": [
    "model = gensim.models.Word2Vec(sentences, min_count=2)"
   ]
  },
  {
   "cell_type": "code",
   "execution_count": 25,
   "metadata": {
    "collapsed": false
   },
   "outputs": [
    {
     "data": {
      "text/plain": [
       "[('Zeer', 0.6824451684951782),\n",
       " ('regarder', 0.6803605556488037),\n",
       " ('varit', 0.6777394413948059),\n",
       " (\"d'un\", 0.6737642288208008),\n",
       " ('isolated', 0.6663426160812378),\n",
       " ('Timeline', 0.6653527617454529),\n",
       " ('condones', 0.6546049118041992),\n",
       " ('intern', 0.6517231464385986),\n",
       " ('Tepui', 0.6510319709777832),\n",
       " ('slecht', 0.6497864723205566)]"
      ]
     },
     "execution_count": 25,
     "metadata": {},
     "output_type": "execute_result"
    }
   ],
   "source": [
    "model.most_similar(\"Fear\")"
   ]
  },
  {
   "cell_type": "code",
   "execution_count": 11,
   "metadata": {
    "collapsed": false
   },
   "outputs": [
    {
     "data": {
      "text/plain": [
       "[('laughter', 0.42966389656066895),\n",
       " ('sparkles', 0.42176616191864014),\n",
       " ('enthusiasm', 0.3997087776660919),\n",
       " ('GIRL', 0.39875859022140503),\n",
       " ('ALSO', 0.39455321431159973),\n",
       " ('SMELL', 0.39043521881103516),\n",
       " ('rendition', 0.38008204102516174),\n",
       " ('childhood', 0.3710421323776245),\n",
       " ('side', 0.3708314597606659),\n",
       " ('bowl', 0.36795324087142944)]"
      ]
     },
     "execution_count": 11,
     "metadata": {},
     "output_type": "execute_result"
    }
   ],
   "source": [
    "model.most_similar(positive=['Trump', 'joy'], negative=['Clinton'])"
   ]
  },
  {
   "cell_type": "code",
   "execution_count": 12,
   "metadata": {
    "collapsed": false
   },
   "outputs": [
    {
     "data": {
      "text/plain": [
       "'cereal'"
      ]
     },
     "execution_count": 12,
     "metadata": {},
     "output_type": "execute_result"
    }
   ],
   "source": [
    "model.doesnt_match(\"breakfast cereal dinner lunch\".split())"
   ]
  },
  {
   "cell_type": "code",
   "execution_count": 22,
   "metadata": {
    "collapsed": false
   },
   "outputs": [
    {
     "data": {
      "text/plain": [
       "0.70516161726290705"
      ]
     },
     "execution_count": 22,
     "metadata": {},
     "output_type": "execute_result"
    }
   ],
   "source": [
    "model.similarity('woman', 'man')"
   ]
  },
  {
   "cell_type": "code",
   "execution_count": 14,
   "metadata": {
    "collapsed": false
   },
   "outputs": [
    {
     "data": {
      "text/plain": [
       "array([ -3.16029996e-01,   3.49598736e-01,  -2.01917386e+00,\n",
       "        -1.58079397e-02,  -1.77323771e+00,   1.03277850e+00,\n",
       "         1.08958197e+00,  -9.67921674e-01,  -4.34887558e-01,\n",
       "         1.89904198e-02,   1.24019957e+00,   9.45470870e-01,\n",
       "        -2.13613421e-01,   2.03581687e-04,  -1.10474515e+00,\n",
       "         3.27989489e-01,   1.08183193e+00,   1.09155750e+00,\n",
       "         2.09316993e+00,   4.92671728e-01,  -5.85276008e-01,\n",
       "         4.43331182e-01,  -7.73979902e-01,  -8.54757726e-01,\n",
       "         7.28259802e-01,  -2.07720667e-01,  -2.14164543e+00,\n",
       "         6.56154096e-01,   8.65789771e-01,  -7.99967110e-01,\n",
       "        -1.78604111e-01,   5.36268294e-01,   1.00209308e+00,\n",
       "         7.45332688e-02,   1.69524062e+00,   9.97784197e-01,\n",
       "         1.64891377e-01,  -1.02187526e+00,  -9.41120744e-01,\n",
       "         3.30877185e-01,  -6.02046251e-01,   1.77491054e-01,\n",
       "        -2.43408576e-01,  -4.30028945e-01,  -1.22609866e+00,\n",
       "        -2.91152549e+00,   1.03178120e+00,  -1.38375592e+00,\n",
       "         2.34421656e-01,   2.24519610e-01,  -2.16745034e-01,\n",
       "        -5.63357212e-02,  -3.44894886e-01,  -2.48877823e-01,\n",
       "         4.36205387e-01,  -1.51441842e-01,  -3.81410211e-01,\n",
       "        -1.22665370e+00,  -1.00183666e-01,   2.23346189e-01,\n",
       "        -2.39681691e-01,  -1.59481928e-01,  -1.39938939e+00,\n",
       "         5.49698830e-01,  -1.70388892e-01,   7.33570933e-01,\n",
       "        -5.28722227e-01,   7.33418316e-02,  -1.52048962e-02,\n",
       "         1.43974841e-01,   7.43569016e-01,  -5.02537012e-01,\n",
       "        -7.27256000e-01,   9.09409404e-01,   6.27214611e-01,\n",
       "         1.06584966e+00,   7.38817751e-01,   8.63074809e-02,\n",
       "        -8.15515101e-01,  -5.39220452e-01,   1.21758938e-01,\n",
       "        -1.04927488e-01,  -1.55407178e+00,  -1.19101822e+00,\n",
       "        -1.10775781e+00,   1.77329767e+00,  -1.95365071e-01,\n",
       "        -1.75691023e-01,  -3.94211896e-02,   1.21825194e+00,\n",
       "        -2.53817558e-01,   2.17860556e+00,   6.59528494e-01,\n",
       "         1.21127033e+00,  -1.08460534e+00,  -7.98931539e-01,\n",
       "        -1.20003653e+00,  -7.89013982e-01,   1.70031071e+00,\n",
       "         7.04348385e-01], dtype=float32)"
      ]
     },
     "execution_count": 14,
     "metadata": {},
     "output_type": "execute_result"
    }
   ],
   "source": [
    "model['computer']  # raw numpy vector of a word"
   ]
  },
  {
   "cell_type": "code",
   "execution_count": 29,
   "metadata": {
    "collapsed": true
   },
   "outputs": [],
   "source": [
    "model.save('facebookmodel_extended-2.mod')"
   ]
  },
  {
   "cell_type": "code",
   "execution_count": null,
   "metadata": {
    "collapsed": true
   },
   "outputs": [],
   "source": []
  }
 ],
 "metadata": {
  "kernelspec": {
   "display_name": "Python 3",
   "language": "python",
   "name": "python3"
  },
  "language_info": {
   "codemirror_mode": {
    "name": "ipython",
    "version": 3
   },
   "file_extension": ".py",
   "mimetype": "text/x-python",
   "name": "python",
   "nbconvert_exporter": "python",
   "pygments_lexer": "ipython3",
   "version": "3.5.1"
  }
 },
 "nbformat": 4,
 "nbformat_minor": 0
}
