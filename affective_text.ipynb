{
 "cells": [
  {
   "cell_type": "code",
   "execution_count": 50,
   "metadata": {
    "collapsed": false
   },
   "outputs": [],
   "source": [
    "from xml.dom.minidom import parse, parseString\n",
    "from collections import defaultdict"
   ]
  },
  {
   "cell_type": "code",
   "execution_count": 70,
   "metadata": {
    "collapsed": true
   },
   "outputs": [],
   "source": [
    "test_gold_doc = parse('data/AffectiveText.Semeval.2007/AffectiveText.test/affectivetext_test.xml')\n",
    "test_sentences = 'data/AffectiveText.Semeval.2007/AffectiveText.test/affectivetext_test.emotions.gold'\n",
    "\n",
    "train_gold_doc = parse('data/AffectiveText.Semeval.2007/AffectiveText.trial/affectivetext_trial.xml')\n",
    "train_sentences = 'data/AffectiveText.Semeval.2007/AffectiveText.trial/affectivetext_trial.emotions.gold'"
   ]
  },
  {
   "cell_type": "code",
   "execution_count": 71,
   "metadata": {
    "collapsed": false,
    "scrolled": false
   },
   "outputs": [],
   "source": [
    "test = defaultdict(list)\n",
    "with open(test_sentences) as f:\n",
    "    for line in f.readlines():\n",
    "        values = line.strip().split()\n",
    "        test[values[0]] = values[1:]\n",
    "\n",
    "sentences = test_gold_doc.getElementsByTagName(\"instance\")\n",
    "for sentence in sentences:\n",
    "    sid = sentence.getAttribute(\"id\")\n",
    "    test[sid].append(sentence.firstChild.nodeValue)"
   ]
  },
  {
   "cell_type": "code",
   "execution_count": 75,
   "metadata": {
    "collapsed": false
   },
   "outputs": [],
   "source": [
    "train = defaultdict(list)\n",
    "with open(train_sentences) as f2:\n",
    "    for line in f2.readlines():\n",
    "        values = line.strip().split()\n",
    "        train[values[0]] = values[1:]\n",
    "\n",
    "sentences = train_gold_doc.getElementsByTagName(\"instance\")\n",
    "for sentence in sentences:\n",
    "    sid = sentence.getAttribute(\"id\")\n",
    "    train[sid].append(sentence.firstChild.nodeValue)"
   ]
  },
  {
   "cell_type": "markdown",
   "metadata": {},
   "source": [
    "Each row is: \n",
    "#### [id]  anger disgust fear joy sadness surprise  sentence"
   ]
  },
  {
   "cell_type": "code",
   "execution_count": 77,
   "metadata": {
    "collapsed": false
   },
   "outputs": [
    {
     "name": "stdout",
     "output_type": "stream",
     "text": [
      "defaultdict(<class 'list'>, {'64': ['0', '0', '3', '21', '0', '47', 'Scientists discover miracle in the depths'], '4': ['66', '39', '94', '0', '86', '0', 'Bombers kill shoppers'], '100': ['25', '24', '6', '21', '13', '13', 'Report criticises US press freedoms'], '40': ['25', '0', '32', '0', '32', '7', 'Tensions as Hungary marks uprising'], '30': ['61', '51', '65', '0', '52', '21', 'Spanish journalist seized in Gaza'], '245': ['0', '0', '0', '54', '0', '6', \"Melua's deep sea gig sets record \"], '112': ['0', '0', '0', '0', '25', '0', 'Students lose their rite of passage'], '200': ['30', '0', '85', '0', '37', '0', '5,000 flee plant fire'], '99': ['0', '0', '9', '38', '0', '6', 'Vegetables May Boost Brain Power in Older Adults'], '97': ['1', '0', '5', '0', '5', '0', 'Questions on credit card safety'], '41': ['0', '13', '23', '0', '9', '3', 'Stanford study warns of Internet addiction'], '210': ['0', '0', '0', '30', '0', '16', 'Madonna files adoption papers'], '136': ['54', '43', '43', '0', '43', '15', 'New Indonesia Calamity, a Mud Bath, Is Man-Made'], '149': ['20', '0', '0', '15', '0', '20', 'Genghis Khan Beer? Mongolia Grimaces'], '105': ['0', '0', '0', '62', '0', '16', 'Cultural revolutionary, the iPod is five'], '36': ['11', '0', '6', '0', '10', '41', 'Did Viking Probes Miss Life on Mars?'], '58': ['0', '0', '0', '12', '0', '9', 'Amateur rocket scientists reach for space'], '24': ['0', '0', '34', '33', '0', '37', 'Hurricane Paul Weakens To Tropical Storm'], '28': ['14', '11', '7', '67', '21', '0', 'Injured Marathon Winner Leaves Hospital'], '219': ['7', '29', '13', '0', '33', '19', \"Student starts white men's club on campus \"], '180': ['0', '0', '0', '67', '0', '51', 'Dow flirts with record highs again'], '69': ['5', '0', '60', '0', '71', '0', 'Russian ship sinks, 18-member crew missing'], '122': ['0', '0', '0', '56', '0', '17', 'Tom Cruise and Katie Holmes set wedding date'], '189': ['3', '3', '0', '54', '0', '10', 'Charlie Sheen to become highest-paid sitcom star'], '188': ['0', '0', '0', '0', '5', '5', 'School ends football season after 0-4 start'], '88': ['0', '0', '44', '0', '17', '35', 'Heavy use of mobile phones can make men infertile, scientists say'], '56': ['24', '0', '44', '0', '50', '0', 'Marine killed in fighting west of Baghdad'], '126': ['54', '31', '3', '0', '40', '3', 'College tuition continues climbing'], '5': ['0', '0', '25', '26', '2', '46', 'Vegetables, not fruit, slow brain decline'], '124': ['21', '20', '84', '0', '25', '0', 'Ukraine gas deal marred by fears'], '187': ['31', '36', '0', '28', '33', '20', 'Porn star candidate campaigns on campus'], '117': ['8', '8', '0', '36', '3', '0', 'Kim Osorio Wins Sexual Harrassment Suit Against The Source'], '247': ['50', '33', '43', '0', '76', '0', 'Gunmen kill 11 in Iraq TV raid '], '217': ['40', '27', '0', '0', '33', '14', 'Magazine lists women who had abortions '], '55': ['0', '0', '10', '63', '16', '0', 'Making peace from victory over poverty'], '131': ['34', '8', '0', '0', '0', '22', 'Sony Hates Europeans, Will Prevent The Importing of PS3'], '33': ['0', '0', '0', '43', '0', '32', 'Pair of Satellites Will Document Sun in 3-D'], '119': ['24', '22', '0', '34', '25', '0', 'Official laughs for Borat'], '176': ['0', '0', '0', '10', '0', '10', \"In God's Name: Religion-Based Tax Breaks: Housing to Paychecks to Books\"], '47': ['34', '0', '48', '0', '71', '0', 'Deaths linked to flu vaccine'], '89': ['9', '0', '23', '0', '66', '12', 'Russian ship sinks in Pacific'], '251': ['0', '0', '0', '48', '0', '29', 'Madonna adoption bid approved '], '19': ['0', '0', '0', '13', '0', '0', \"We're a pretty kind 'bully'\"], '212': ['4', '7', '0', '0', '27', '3', 'Hastert sorry for scandal but not quitting'], '12': ['14', '0', '20', '0', '28', '16', \"Nicole Kidman asks dad to help stop husband's drinking\"], '155': ['23', '0', '47', '0', '39', '0', 'U.S. Warns North Koreans About Nuclear Test'], '11': ['0', '0', '0', '63', '0', '0', \"Madonna's New Tot 'Happy at Home' in London\"], '90': ['0', '0', '0', '91', '0', '0', 'China Successfully Launches Two Satellites'], '108': ['0', '0', '29', '38', '0', '0', \"Moderate drinking reduces men's heart attack risk\"], '207': ['0', '0', '36', '0', '39', '10', 'Flooding washes out road to Valdez, Alaska'], '129': ['0', '0', '0', '4', '0', '0', 'Advantage Cardinals with Suppan in Game 4'], '132': ['0', '0', '6', '45', '0', '0', 'Flu Vaccine Appears Safe for Young Children'], '239': ['0', '0', '0', '18', '0', '2', 'Cher items snapped up at auction '], '160': ['7', '0', '47', '0', '28', '13', 'Iraqi Journalists Add Laws to List of Dangers'], '8': ['0', '0', '0', '23', '0', '32', 'NASA revisiting life on Mars question'], '226': ['0', '0', '0', '0', '0', '9', \"Yankee pitcher's pilot log found \"], '144': ['51', '62', '57', '0', '58', '17', 'Women Face Greatest Threat of Violence at Home, Study Finds'], '244': ['13', '0', '10', '27', '21', '0', 'Cohn gunman jailed for 36 years '], '232': ['3', '0', '56', '0', '43', '0', 'Alaska town cut off from rest of state by flood '], '252': ['33', '43', '61', '0', '33', '0', 'Man admits UK-US terror bomb plot'], '241': ['0', '0', '0', '93', '0', '17', 'Lily Allen wins web music award '], '26': ['0', '0', '28', '84', '13', '63', 'Three found alive from missing Russian ship -report'], '71': ['0', '0', '0', '26', '0', '6', 'Apple set for massive market gains'], '242': ['55', '0', '0', '0', '15', '3', 'Costner appeals in casino wrangle'], '205': ['0', '0', '0', '0', '33', '3', \"Warner will not run in '08\"], '86': ['0', '0', '0', '0', '0', '0', 'Lebo: A life lived on the edge'], '175': ['0', '0', '0', '64', '0', '0', 'Fitness: Bodies in Motion, Clean and Sober'], '220': ['0', '0', '8', '5', '0', '16', 'Kentucky wants to ban alcohol inhalers '], '234': ['0', '0', '0', '44', '0', '17', 'Madonna files adoption papers in Malawi'], '53': ['3', '0', '0', '0', '0', '16', 'Confusion Reigns In the Expanding Digital World'], '96': ['6', '0', '0', '0', '29', '0', 'Sony apologises for global battery recall'], '21': ['0', '0', '0', '60', '0', '10', 'Tom Cruise and Katie Holmes set wedding date'], '27': ['0', '8', '23', '0', '26', '0', 'Poison Pill to Swallow: Hawks Hurting After Loss to Vikes'], '103': ['55', '56', '40', '0', '54', '24', 'Photographer kidnapped in Gaza'], '203': ['2', '0', '14', '8', '55', '0', 'Probe under way in Yankee crash'], '125': ['5', '0', '0', '38', '38', '0', 'Marathon victory comes at heavy cost'], '80': ['0', '0', '0', '10', '0', '16', 'Google to unveil election mashup'], '145': ['0', '0', '0', '8', '0', '1', 'Appeal by Chinese Researcher for Times May Soon Be Heard'], '121': ['0', '0', '0', '0', '0', '0', 'On Educating Sexes Separately'], '170': ['26', '30', '0', '4', '28', '0', 'Seduced by Snacks? No, Not You'], '208': ['23', '21', '28', '0', '33', '0', 'Briton admits U.S. bomb plot role'], '221': ['0', '0', '0', '25', '0', '26', 'Peter Pan flies into chapter two '], '253': ['0', '16', '0', '0', '12', '0', 'Who are you calling fat?'], '211': ['28', '31', '69', '0', '58', '0', 'Gunmen kill 9 at Iraqi TV station'], '233': ['0', '0', '0', '29', '0', '6', 'Trailblazing trio protects City by the Bay '], '248': ['0', '0', '0', '0', '0', '45', 'Italy drops Sicily bridge plans '], '45': ['46', '39', '41', '0', '77', '0', 'US Troops Killed In October In Iraq'], '13': ['0', '0', '0', '63', '0', '6', 'United Finds Good Connection in Win'], '42': ['0', '0', '0', '0', '16', '10', 'No evidence of ice reserves on the moon'], '77': ['70', '74', '70', '0', '51', '0', 'Abbas condemns Israeli massacre in northern Gaza Strip'], '139': ['0', '0', '0', '30', '33', '33', 'Senator Says U.S. Should Rethink Iraq Strategy'], '137': ['61', '32', '23', '0', '44', '0', 'U.S. Weighs Sanctions Against North Korea'], '214': ['26', '6', '30', '6', '66', '0', 'Waste plant fire forces 5,000 to evacuate '], '127': ['43', '66', '17', '0', '37', '0', 'German paper shows soldiers desecrating skull'], '54': ['0', '0', '0', '70', '0', '6', 'Game on! London exhibition celebrates the history of video games'], '225': ['0', '0', '0', '0', '0', '2', 'Ex-Virginia gov not running for president '], '50': ['0', '0', '8', '32', '28', '0', 'Beating poverty in a small way'], '238': ['0', '0', '0', '67', '0', '39', 'UK characters boosting box office '], '229': ['4', '23', '0', '0', '28', '0', 'Dad locked up son, watched on TV, police say '], '164': ['3', '0', '0', '0', '28', '0', 'Opera Canceled Over a Depiction of Muhammad'], '20': ['0', '4', '26', '52', '9', '16', \"Moderate drinking reduces men's heart attack risk\"], '151': ['0', '0', '0', '0', '0', '0', 'Managua Journal: Hold the Mojito and Margarita, Nicaragua Has el Macu'], '182': ['37', '35', '95', '0', '37', '0', 'New Iraq terror tape calls for abducting foreigners'], '167': ['34', '17', '49', '0', '0', '21', 'Combative Bush Releases Parts of Terror Study'], '228': ['15', '10', '0', '6', '13', '11', \"Dem leader's $1 million land deal under scrutiny \"], '193': ['6', '6', '6', '0', '22', '10', \"Gunman 'fine' before shooting\"], '25': ['42', '40', '39', '0', '41', '16', 'UK announces immigration restrictions'], '14': ['0', '3', '0', '22', '0', '6', \"'Runway': Making Good Without Making Nice\"], '104': ['0', '0', '0', '67', '0', '15', 'Baseball: Rogers enjoys his muddied streak'], '173': ['10', '9', '19', '0', '43', '0', 'Across Europe, Worries on Islam Spread to Center'], '143': ['63', '45', '58', '0', '54', '0', 'Anti-U.S. Attack Videos Spread on the Internet'], '81': ['52', '64', '50', '0', '43', '0', 'Police warn of child exploitation online'], '246': ['21', '0', '26', '0', '75', '0', 'Sri Lanka clashes kill 129 troops '], '213': ['5', '5', '0', '4', '0', '0', 'Ex-JonBenet suspect: Child porn case dropped '], '101': ['6', '0', '50', '0', '22', '0', 'French suburb riots could resume'], '59': ['6', '0', '6', '0', '6', '19', 'Confusion Reigns In the Expanding Digital World'], '191': ['0', '0', '0', '8', '0', '11', 'Ashton Kutcher tells secret to Ryan Seacrest'], '43': ['0', '0', '0', '0', '0', '0', 'A Picture and A Thousand Words'], '148': ['18', '0', '0', '50', '28', '0', 'Immigrants and French Reach Deal in Standoff'], '83': ['18', '0', '16', '3', '27', '0', 'Hungary police tackle violent protestors'], '60': ['37', '9', '57', '0', '66', '21', 'Deaths linked to flu vaccine'], '177': ['0', '0', '9', '0', '93', '0', 'Yankee Dies in Plane Crash, Official Says'], '168': ['39', '37', '56', '0', '35', '6', 'Growing Unarmed Battalion in Qaeda Army Is Using Internet to Get the Message Out'], '91': ['0', '0', '0', '31', '0', '0', 'Prestige has magic touch'], '178': ['11', '0', '0', '14', '31', '0', 'An Elephant Crackup?'], '196': ['59', '26', '27', '0', '89', '22', 'Toddler died from tainted spinach'], '128': ['52', '33', '57', '12', '40', '0', 'War is close, Ethiopia tells Somali rebels'], '22': ['30', '28', '50', '49', '31', '37', 'Kidnapped AP photographer freed in Gaza'], '192': ['4', '20', '0', '3', '0', '10', 'Nails-on-chalkboard study earns Ig'], '15': ['42', '30', '25', '23', '81', '45', \"We were 'arrogant and stupid' over Iraq, says US diplomat\"], '216': ['50', '59', '4', '0', '42', '0', 'Disturbing finds in child sex raids '], '231': ['4', '33', '26', '0', '37', '0', 'Pit bulls jump miniature pony, leave her bloody '], '18': ['19', '19', '23', '24', '26', '11', \"Women in their 60s 'are perfectly good mothers'\"], '72': ['0', '0', '9', '14', '24', '6', 'Tumor Types May Explain Survival Rates for Cancer'], '163': ['0', '0', '0', '33', '0', '36', \"Citing Spy Agencies' Study, Democrats Seek Iraq Changes\"], '204': ['29', '27', '37', '0', '73', '2', 'Amish schoolhouse torn down'], '67': ['0', '0', '5', '24', '0', '25', 'Vegetables May Boost Brain Power in Older Adults'], '29': ['21', '14', '12', '25', '0', '52', 'Hacker unlocks Apple music download protection'], '158': ['49', '33', '46', '0', '67', '38', 'Equipment on Plane in Brazil Collision May Have Been Faulty'], '57': ['0', '0', '0', '17', '0', '17', 'Scientists create first cloaking device'], '74': ['6', '16', '2', '0', '42', '0', 'Bad weather slows S.Korean search for Russian ship'], '102': ['47', '55', '0', '21', '33', '3', 'Photographer kidnapping condemned'], '154': ['0', '0', '25', '8', '0', '39', \"An Old Letter Casts Doubts on Iran's Goal for Uranium\"], '92': ['43', '40', '10', '0', '50', '0', 'Lies, damned lies, and divorce'], '73': ['3', '0', '16', '0', '26', '20', 'Routine mission turns into hunt for missing comrade'], '9': ['0', '0', '0', '71', '0', '3', 'Happy birthday, iPod'], '201': ['0', '0', '0', '45', '0', '21', 'Cher auction fetches double pre-sale estimates'], '218': ['0', '0', '4', '10', '0', '66', \"Pot smokers may avoid Alzheimer's, study says \"], '6': ['0', '0', '0', '34', '0', '28', 'PM: Havana deal a good experiment'], '250': ['0', '0', '0', '89', '0', '10', 'Pamuk wins Nobel Literature prize'], '31': ['12', '6', '0', '0', '0', '16', 'Sudan urges UN to replace its special envoy'], '94': ['46', '27', '31', '0', '53', '4', 'Riot warning for France suburbs'], '16': ['9', '3', '0', '15', '25', '3', 'Bad reasons to be good'], '133': ['0', '0', '0', '21', '0', '6', 'Google To Launch Yet Another Search Tool'], '107': ['0', '0', '5', '75', '14', '57', 'Three found alive from missing Russian ship -report'], '23': ['34', '52', '46', '6', '39', '0', 'Bush Insists Troops Stay in Iraq, Predicts Midterm Victory'], '162': ['33', '33', '33', '0', '38', '9', 'Cleric Said to Lose Reins Over Part of Iraqi Militia'], '223': ['0', '0', '0', '17', '0', '2', \"Cher's dress, car, bed have new owners\"], '34': ['5', '0', '0', '3', '5', '36', 'Martian Life Could Have Evaded Detection by Viking Landers'], '61': ['54', '47', '6', '0', '59', '16', 'Israel admits using phosphorous shells in Lebanon'], '142': ['52', '42', '75', '0', '59', '0', 'Kurdish Lawmaker Killed in an Attack in Baghdad'], '134': ['16', '0', '32', '0', '57', '0', \"Tropical Storm Paul's Outer Bands Hit Mexico's Baja California\"], '235': ['0', '0', '24', '0', '49', '20', \"'Dr. McDreamy' choked in 'Grey's' scuffle \"], '161': ['0', '0', '32', '24', '32', '0', 'U.N. Force Is Treading Lightly on Lebanese Soil'], '113': ['10', '7', '0', '0', '10', '3', 'Putin vows to tackle illegal immigration'], '48': ['0', '0', '5', '34', '16', '6', 'Perfect lives lose their focus'], '237': ['0', '0', '0', '77', '0', '36', 'Las Vegas honour for tiger pair '], '165': ['25', '2', '7', '30', '0', '26', \"Military Officials Add to U.S. Criticism of Iraq's Government\"], '171': ['0', '0', '0', '87', '0', '16', 'Friends for Life: An Emerging Biology of Emotional Healing'], '215': ['25', '26', '8', '0', '83', '0', 'Toddler died from E. coli tainted spinach '], '63': ['45', '38', '75', '0', '53', '0', 'Police and shoppers targeted in growing Iraq violence'], '230': ['3', '0', '0', '6', '13', '5', 'Navarrette: Minutemen have a right to be idiotic '], '179': ['0', '0', '0', '72', '0', '42', 'With YouTube, Grad Student Hits Jackpot Again'], '183': ['0', '4', '0', '0', '40', '6', \"'Deep regret' for ex-HP exec\"], '130': ['0', '0', '0', '29', '0', '26', 'NASA spacecraft to measure Sun'], '95': ['0', '0', '0', '89', '0', '13', 'Full recovery expected for marathon winner'], '224': ['0', '0', '0', '49', '0', '0', 'Dow hits new record, eyes 12,000 '], '172': ['33', '0', '16', '0', '91', '47', \"Alzheimer's Drugs Offer No Help, Study Finds\"], '190': ['13', '13', '0', '0', '5', '21', \"Jon Stewart mocks benefits of CNN's I\"], '114': ['0', '0', '66', '0', '10', '0', \"Ottawa must redefine 'terror'\"], '85': ['25', '0', '0', '27', '27', '0', 'Celebrities Protest Malibu Gas Facility'], '123': ['4', '0', '2', '0', '4', '24', 'Martian Life Could Have Evaded Detection by Viking Landers'], '202': ['15', '16', '0', '0', '0', '0', \"Stars scuffle on 'Grey's Anatomy'\"], '118': ['0', '1', '0', '2', '0', '0', 'Silly and substantial'], '76': ['0', '0', '0', '87', '0', '0', 'Active peace brings the promise of development'], '181': ['0', '0', '86', '0', '10', '0', 'Tropical Storm Isaac forms in Atlantic'], '111': ['4', '0', '0', '0', '0', '8', 'Dating difficult for Harry Potter'], '150': ['0', '0', '0', '20', '14', '27', 'Dead Bachelors in Remote China Still Find Wives'], '82': ['0', '0', '31', '0', '12', '0', 'Breast Cancer Awareness is Important'], '49': ['1', '5', '55', '0', '42', '23', 'Bread-Heavy Diet Linked to Kidney Cancer'], '98': ['34', '2', '18', '18', '17', '0', 'Budapest calm after night of violent protests'], '194': ['0', '2', '0', '25', '0', '47', \"Marijuana may stave off Alzheimer's\"], '75': ['8', '0', '0', '54', '21', '0', 'Tailors and housewives busy as Muslims celebrate Eid'], '135': ['54', '48', '67', '0', '39', '0', 'Israeli Bomblets Plague Lebanon'], '70': ['0', '1', '0', '2', '0', '13', \"Iran's president urges higher birth rate\"], '116': ['28', '30', '0', '27', '44', '0', 'Top General Optimistic on Iraq'], '46': ['15', '0', '5', '0', '21', '0', 'Chefs not counting calories, study finds'], '140': ['0', '0', '0', '33', '0', '15', 'German Chief Forges Accord on Financing Health Care'], '66': ['0', '0', '0', '30', '0', '6', 'China launches two satellites into orbit'], '115': ['5', '10', '22', '0', '10', '0', 'Britain to Limit Workers from Romania, Bulgaria'], '240': ['12', '35', '0', '4', '3', '0', \"Griffiths scorns Withnail 'play' \"], '7': ['0', '0', '0', '71', '0', '41', 'Kate is marrying Doherty'], '222': ['0', '20', '0', '41', '0', '17', 'Teen repellent inventor wins infamous prize '], '38': ['39', '22', '6', '0', '68', '27', 'More Human Remains Found at Ground Zero'], '52': ['7', '8', '7', '0', '4', '0', 'Britain to restrict immigrants from new EU members'], '84': ['0', '0', '0', '44', '0', '0', 'Three drivers had reason to be proud in Brazil'], '169': ['32', '33', '41', '0', '31', '0', 'Iraqi Linked to Sunni Bloc Is Held in Plot, Military Says'], '243': ['10', '0', '0', '0', '0', '2', 'Beyonce copyright claim rejected '], '37': ['45', '44', '0', '14', '18', '26', 'Diplomat acknowledges US arrogance in Iraq'], '35': ['0', '0', '0', '83', '0', '0', 'The sweet tune of an anniversary'], '138': ['37', '33', '26', '0', '33', '0', 'Rice, in Baghdad, Insists That Iraqis Are '], '3': ['18', '0', '52', '66', '20', '65', 'Nigeria hostage feared dead is freed'], '249': ['33', '33', '42', '0', '44', '33', 'Amish killings school demolished '], '51': ['39', '31', '4', '0', '33', '0', 'Israel insists on Lebanon overflights'], '199': ['22', '7', '35', '0', '76', '0', 'Slain Amish girls laid to rest'], '197': ['6', '6', '0', '3', '0', '13', \"Judge dismisses Karr's porn case\"], '147': ['29', '29', '33', '0', '33', '0', 'A Mix of Oil and Environmentalism'], '32': ['0', '0', '0', '45', '0', '15', 'Resolution approved for international games'], '17': ['0', '0', '2', '9', '7', '62', \"Madonna's new baby's daddy didn't realize adoption was `for good'\"], '174': ['0', '0', '0', '49', '0', '0', 'Cooking Defines Sephardic Jews at Sukkot'], '159': ['59', '41', '6', '0', '62', '13', 'New Indonesia Calamity, a Mud Bath, Is Man-Made'], '141': ['49', '11', '45', '8', '35', '0', 'Turkish Writers Say Efforts to Stifle Speech May Backfire'], '106': ['0', '2', '0', '11', '3', '29', 'Life on Mars? Maybe We Missed It'], '10': ['0', '0', '0', '61', '24', '0', 'Alonso would be happy to retire with three titles'], '68': ['0', '0', '68', '0', '23', '6', 'Hurricane Paul nears Category 3 status'], '1': ['22', '2', '60', '0', '64', '0', 'Mortar assault leaves at least 18 dead'], '65': ['0', '0', '0', '9', '16', '12', \"Doctors Seeing Patients Who Think They're Internet Addicted\"], '184': ['0', '0', '0', '13', '0', '3', \"'Opportunity' knocks on geologist's dream crater\"], '62': ['39', '0', '56', '0', '57', '0', '4th person dies after receiving flu shot'], '153': ['0', '4', '0', '40', '2', '21', 'Paris Journal: Smoking No Longer Tres Chic in France'], '185': ['28', '4', '61', '0', '28', '62', 'Squirrel jumps boy in park; rabies suspected'], '120': ['9', '18', '0', '0', '14', '0', 'Speaker Hastert testifies before panel probing sex scandal'], '87': ['0', '0', '0', '30', '0', '34', \"Presto! He's Batman, then magic man\"], '156': ['0', '0', '11', '4', '71', '0', 'Global Sludge Ends in Tragedy for Ivory Coast'], '93': ['0', '0', '0', '44', '0', '0', 'Manning inspires Giants to victory in Dallas'], '78': ['24', '0', '16', '0', '85', '0', 'Bangladesh ferry sinks, 15 dead'], '109': ['0', '0', '0', '86', '0', '0', 'The sweet tune of an anniversary'], '186': ['39', '39', '62', '12', '66', '9', 'Girl left comatose after dental visit dies'], '195': ['4', '4', '17', '32', '0', '25', 'Kentucky seeks alcohol huffing ban'], '146': ['15', '0', '43', '0', '68', '11', 'Brazil Air Force Cites Faults and Confusion in Fatal Crash'], '206': ['2', '0', '0', '0', '3', '5', 'Reid land deal under scrutiny'], '110': ['12', '3', '5', '0', '8', '3', 'Inconvenient truths'], '236': ['0', '0', '0', '86', '0', '11', '$10,000 poetry prize awarded '], '198': ['50', '38', '62', '0', '54', '0', '10 die in 22-hour Kashmir standoff'], '39': ['31', '39', '67', '0', '33', '0', 'How to Prevent Iraq From Getting Even Worse'], '2': ['0', '0', '0', '93', '0', '38', 'Goal delight for Sheva'], '166': ['13', '2', '38', '0', '36', '0', 'Teacher in Hiding After Attack on Islam Stirs Threats'], '79': ['0', '0', '0', '20', '0', '17', 'Bucs find a new kick in life'], '44': ['6', '6', '33', '6', '88', '0', 'Parachutist dies at bridge-jump festival'], '209': ['7', '0', '0', '2', '0', '0', 'Commentary: Minutemen have a right to be idiotic']})\n"
     ]
    }
   ],
   "source": [
    "#example\n",
    "print(train)"
   ]
  },
  {
   "cell_type": "code",
   "execution_count": null,
   "metadata": {
    "collapsed": true
   },
   "outputs": [],
   "source": []
  }
 ],
 "metadata": {
  "kernelspec": {
   "display_name": "Python 3",
   "language": "python",
   "name": "python3"
  },
  "language_info": {
   "codemirror_mode": {
    "name": "ipython",
    "version": 3
   },
   "file_extension": ".py",
   "mimetype": "text/x-python",
   "name": "python",
   "nbconvert_exporter": "python",
   "pygments_lexer": "ipython3",
   "version": "3.5.1"
  }
 },
 "nbformat": 4,
 "nbformat_minor": 0
}
